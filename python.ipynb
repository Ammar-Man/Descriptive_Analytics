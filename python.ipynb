{
 "cells": [
  {
   "cell_type": "code",
   "execution_count": 1,
   "metadata": {},
   "outputs": [],
   "source": [
    "import numpy as np\n",
    "from sklearn.linear_model import LinearRegression"
   ]
  },
  {
   "cell_type": "code",
   "execution_count": 2,
   "metadata": {},
   "outputs": [
    {
     "name": "stdout",
     "output_type": "stream",
     "text": [
      "coefficient of determinaltion:0.7158756137479542\n",
      "0.7158756137479542\n"
     ]
    }
   ],
   "source": [
    "x = np.array([5,15,25,35,45,55]).reshape((-1,1))\n",
    "y = np.array([5,20,14,32,22,38])\n",
    "\n",
    "model = LinearRegression().fit(x,y)\n",
    "r_sq = model.score(x,y)\n",
    "print(f\"coefficient of determinaltion:{r_sq}\")\n",
    "print(r_sq)\n"
   ]
  },
  {
   "cell_type": "code",
   "execution_count": 3,
   "metadata": {},
   "outputs": [
    {
     "data": {
      "text/plain": [
       "array([ 8.33333333, 13.73333333, 19.13333333, 24.53333333, 29.93333333,\n",
       "       35.33333333])"
      ]
     },
     "execution_count": 3,
     "metadata": {},
     "output_type": "execute_result"
    }
   ],
   "source": [
    "y_pred = model.predict(x)\n",
    "y_pred"
   ]
  },
  {
   "cell_type": "markdown",
   "metadata": {},
   "source": []
  },
  {
   "cell_type": "code",
   "execution_count": 2,
   "metadata": {},
   "outputs": [],
   "source": [
    "import pandas as pd"
   ]
  },
  {
   "cell_type": "code",
   "execution_count": 20,
   "metadata": {},
   "outputs": [],
   "source": [
    "UnWorld = pd.read_csv(\"./UnWorldHappiness.csv\" , sep=';')\n",
    "UnWorld.columns=['country', 'year', 'Life Ladder', 'GDP',\n",
    "       'Social_Support', 'Healthy_Expectancy',\n",
    "       'Press_Freedom', 'Generosity',\n",
    "       'Corruption', 'Positive affect', 'Negative affect',\n",
    "       'Confidence in national government', 'Democratic Quality',\n",
    "       'Delivery Quality', 'Standard deviation of ladder by country-year',\n",
    "       'Standard deviation/Mean of ladder by country-year',\n",
    "       'GINI index (World Bank estimate)',\n",
    "       'GINI index (World Bank estimate), average 2000-15',\n",
    "       'gini of household income reported in Gallup, by wp5-year']"
   ]
  },
  {
   "cell_type": "code",
   "execution_count": 27,
   "metadata": {},
   "outputs": [
    {
     "data": {
      "text/html": [
       "<div>\n",
       "<style scoped>\n",
       "    .dataframe tbody tr th:only-of-type {\n",
       "        vertical-align: middle;\n",
       "    }\n",
       "\n",
       "    .dataframe tbody tr th {\n",
       "        vertical-align: top;\n",
       "    }\n",
       "\n",
       "    .dataframe thead th {\n",
       "        text-align: right;\n",
       "    }\n",
       "</style>\n",
       "<table border=\"1\" class=\"dataframe\">\n",
       "  <thead>\n",
       "    <tr style=\"text-align: right;\">\n",
       "      <th></th>\n",
       "      <th>Healthy_Expectancy</th>\n",
       "      <th>GDP</th>\n",
       "      <th>Social_Support</th>\n",
       "      <th>Press_Freedom</th>\n",
       "      <th>Generosity</th>\n",
       "      <th>Corruption</th>\n",
       "    </tr>\n",
       "  </thead>\n",
       "  <tbody>\n",
       "    <tr>\n",
       "      <th>0</th>\n",
       "      <td>49,20966339</td>\n",
       "      <td>7,168690205</td>\n",
       "      <td>0,450662315</td>\n",
       "      <td>0,718114316</td>\n",
       "      <td>0,181819469</td>\n",
       "      <td>0,88168633</td>\n",
       "    </tr>\n",
       "    <tr>\n",
       "      <th>1</th>\n",
       "      <td>49,62443161</td>\n",
       "      <td>7,333789825</td>\n",
       "      <td>0,55230844</td>\n",
       "      <td>0,678896368</td>\n",
       "      <td>0,203614458</td>\n",
       "      <td>0,850035429</td>\n",
       "    </tr>\n",
       "    <tr>\n",
       "      <th>2</th>\n",
       "      <td>50,00896072</td>\n",
       "      <td>7,386628628</td>\n",
       "      <td>0,539075196</td>\n",
       "      <td>0,60012722</td>\n",
       "      <td>0,137630194</td>\n",
       "      <td>0,706766069</td>\n",
       "    </tr>\n",
       "    <tr>\n",
       "      <th>3</th>\n",
       "      <td>50,36729813</td>\n",
       "      <td>7,415018559</td>\n",
       "      <td>0,521103561</td>\n",
       "      <td>0,495901406</td>\n",
       "      <td>0,175329223</td>\n",
       "      <td>0,731108546</td>\n",
       "    </tr>\n",
       "    <tr>\n",
       "      <th>4</th>\n",
       "      <td>50,70926285</td>\n",
       "      <td>7,517126083</td>\n",
       "      <td>0,520636737</td>\n",
       "      <td>0,530935049</td>\n",
       "      <td>0,247159243</td>\n",
       "      <td>0,775619805</td>\n",
       "    </tr>\n",
       "    <tr>\n",
       "      <th>...</th>\n",
       "      <td>...</td>\n",
       "      <td>...</td>\n",
       "      <td>...</td>\n",
       "      <td>...</td>\n",
       "      <td>...</td>\n",
       "      <td>...</td>\n",
       "    </tr>\n",
       "    <tr>\n",
       "      <th>1557</th>\n",
       "      <td>48,94974518</td>\n",
       "      <td>7,565153599</td>\n",
       "      <td>0,799273849</td>\n",
       "      <td>0,575884283</td>\n",
       "      <td>-0,07671573</td>\n",
       "      <td>0,830936551</td>\n",
       "    </tr>\n",
       "    <tr>\n",
       "      <th>1558</th>\n",
       "      <td>50,0512352</td>\n",
       "      <td>7,562753201</td>\n",
       "      <td>0,765838981</td>\n",
       "      <td>0,642033815</td>\n",
       "      <td>-0,045884714</td>\n",
       "      <td>0,820217133</td>\n",
       "    </tr>\n",
       "    <tr>\n",
       "      <th>1559</th>\n",
       "      <td>50,92565155</td>\n",
       "      <td>7,556051731</td>\n",
       "      <td>0,735800326</td>\n",
       "      <td>0,667193294</td>\n",
       "      <td>-0,094584644</td>\n",
       "      <td>0,810457349</td>\n",
       "    </tr>\n",
       "    <tr>\n",
       "      <th>1560</th>\n",
       "      <td>51,8000679</td>\n",
       "      <td>7,538829327</td>\n",
       "      <td>0,768425405</td>\n",
       "      <td>0,732971489</td>\n",
       "      <td>-0,065283127</td>\n",
       "      <td>0,72361201</td>\n",
       "    </tr>\n",
       "    <tr>\n",
       "      <th>1561</th>\n",
       "      <td>52,67448425</td>\n",
       "      <td>7,538187027</td>\n",
       "      <td>0,754147053</td>\n",
       "      <td>0,752826095</td>\n",
       "      <td>-0,066004686</td>\n",
       "      <td>0,751208007</td>\n",
       "    </tr>\n",
       "  </tbody>\n",
       "</table>\n",
       "<p>1562 rows × 6 columns</p>\n",
       "</div>"
      ],
      "text/plain": [
       "     Healthy_Expectancy          GDP Social_Support Press_Freedom  \\\n",
       "0           49,20966339  7,168690205    0,450662315   0,718114316   \n",
       "1           49,62443161  7,333789825     0,55230844   0,678896368   \n",
       "2           50,00896072  7,386628628    0,539075196    0,60012722   \n",
       "3           50,36729813  7,415018559    0,521103561   0,495901406   \n",
       "4           50,70926285  7,517126083    0,520636737   0,530935049   \n",
       "...                 ...          ...            ...           ...   \n",
       "1557        48,94974518  7,565153599    0,799273849   0,575884283   \n",
       "1558         50,0512352  7,562753201    0,765838981   0,642033815   \n",
       "1559        50,92565155  7,556051731    0,735800326   0,667193294   \n",
       "1560         51,8000679  7,538829327    0,768425405   0,732971489   \n",
       "1561        52,67448425  7,538187027    0,754147053   0,752826095   \n",
       "\n",
       "        Generosity   Corruption  \n",
       "0      0,181819469   0,88168633  \n",
       "1      0,203614458  0,850035429  \n",
       "2      0,137630194  0,706766069  \n",
       "3      0,175329223  0,731108546  \n",
       "4      0,247159243  0,775619805  \n",
       "...            ...          ...  \n",
       "1557   -0,07671573  0,830936551  \n",
       "1558  -0,045884714  0,820217133  \n",
       "1559  -0,094584644  0,810457349  \n",
       "1560  -0,065283127   0,72361201  \n",
       "1561  -0,066004686  0,751208007  \n",
       "\n",
       "[1562 rows x 6 columns]"
      ]
     },
     "execution_count": 27,
     "metadata": {},
     "output_type": "execute_result"
    }
   ],
   "source": [
    "smallUnWorld =  UnWorld[[\"Healthy_Expectancy\",\"GDP\",\"Social_Support\",\"Press_Freedom\",\"Generosity\",\"Corruption\"]]\n",
    "smallUnWorld"
   ]
  }
 ],
 "metadata": {
  "kernelspec": {
   "display_name": "Python 3",
   "language": "python",
   "name": "python3"
  },
  "language_info": {
   "codemirror_mode": {
    "name": "ipython",
    "version": 3
   },
   "file_extension": ".py",
   "mimetype": "text/x-python",
   "name": "python",
   "nbconvert_exporter": "python",
   "pygments_lexer": "ipython3",
   "version": "3.10.0"
  },
  "orig_nbformat": 4,
  "vscode": {
   "interpreter": {
    "hash": "a42ccb73e7d9bfdf27e036f1d2b8b681e55fc0743cc5586bc2474d4a60f4b886"
   }
  }
 },
 "nbformat": 4,
 "nbformat_minor": 2
}
