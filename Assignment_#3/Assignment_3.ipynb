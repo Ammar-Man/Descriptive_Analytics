{
 "cells": [
  {
   "cell_type": "code",
   "execution_count": 4,
   "metadata": {},
   "outputs": [],
   "source": [
    "import pandas as pd\n",
    "link= \"./training_set_rel3.tsv\"\n",
    "data = pd.read_csv(link, sep=\"\\t\", encoding=\"ISO-8859-1\")"
   ]
  },
  {
   "cell_type": "code",
   "execution_count": 11,
   "metadata": {},
   "outputs": [
    {
     "data": {
      "text/plain": [
       "array([3], dtype=int64)"
      ]
     },
     "execution_count": 11,
     "metadata": {},
     "output_type": "execute_result"
    }
   ],
   "source": [
    "from sklearn.feature_extraction.text import CountVectorizer \n",
    "\n",
    "# print(essays)\n",
    "train_x =  data[\"essay\"].to_numpy()[:10000]\n",
    "train_y = data[\"domain1_score\"].to_numpy()[:10000]\n",
    "\n",
    "# vectorizer = CountVectorizer(binary=True, ngram_range=(1,2)) # more word with on and two word like \"this , this is\"\n",
    "vectorizer = CountVectorizer(binary=True)\n",
    "train_x_vectors = vectorizer.fit_transform(train_x)\n",
    "\n",
    "# print(vectorizer.get_feature_names())\n",
    "# print(train_x_vectors.toarray())\n",
    "# print(train_y)\n",
    "from sklearn import svm\n",
    "\n",
    "clf_svm = svm.SVC(kernel=\"linear\")\n",
    "clf_svm.fit(train_x_vectors, train_y)\n",
    "\n"
   ]
  },
  {
   "cell_type": "code",
   "execution_count": 19,
   "metadata": {},
   "outputs": [
    {
     "data": {
      "text/plain": [
       "array([3], dtype=int64)"
      ]
     },
     "execution_count": 19,
     "metadata": {},
     "output_type": "execute_result"
    }
   ],
   "source": [
    "Document1=\"Niraj is teaching NLP. I will not miss this class. \"\n",
    "Document2=\"Teaching NLP is not useful. I have money. I will not learn Niraj's NLP\"\n",
    "Document3=\" Many people believe that laughter can improve your life. Laughing lets out endorphins that give your body energy for daily activities. Relationships are usually better if both the people are happy. Happiness is like shaking up a soda bottle. Happy emotions build up in your body and when shaken, release with an explosion of positive emotions such as laughing. When I was born, my mother said that I was the most chubby baby in the world. As she said this, she laughed, in constant thought that I will eventually become a young adult. I giggled in the backseat of the car as we drove home together. I was taught by my mother, who laughed all the time until her eyes were full of tears, to laugh at every chance I had. Through my years as an infant, I giggled, chuckled, and laughed my way to adolescence. As I moved into adolescence, I was diagnosed with @ORGANIZATION1's @CAPS1, a mild autistic @CAPS1 that has a variation of side effects. Some people who have @ORGANIZATION1's @CAPS1 develop cases where their emotions do not show physically. This case is similar to the physical features of @CAPS3 @CAPS1. My main case with having @ORGANIZATION1's @CAPS1 is that I do not receive all the information given to me at one time. When people tell me a joke that they think is hilarious, I tend to miss the important parts of the joke, which are funny. As the joke comes to an end, everybody around me is laughing, but I am standing there with a blank look on my face. Sometimes I tell people I cannot laugh. Though I say this, I know it is not true. I can laugh, it is just really hard for me to find the right time. Most times, I laugh at a situation that really is not funny and everybody else has a blank gaze on their face. This usually makes me feel embarrassed and I don't feel normal. A lot of people tell me I look expressionless and then try to perk me up, or smile. I don't feel the need to smile, even in happy times in my life. I have not laughed enough, but have been learning in how to make bad situations into great and happy ones. Learning that at any moment I can laugh is important. Even if there is no joke being told, I can laugh. Most people would probably look a me in a weird way, but I wouldn't care because I am the one that feels happiness inside. Laughing relieves stress, makes other people feel good, and allows people with mental disabilities to feel more comfortable in the community they live in. I have finally learned that even with @ORGANIZATION1's @CAPS1, I can laugh just as much as anyone.\"\n",
    "\n",
    "test_x = vectorizer.transform([Document3])\n",
    "clf_svm.predict(test_x)"
   ]
  },
  {
   "cell_type": "code",
   "execution_count": 20,
   "metadata": {},
   "outputs": [
    {
     "data": {
      "text/plain": [
       "array([0], dtype=int64)"
      ]
     },
     "execution_count": 20,
     "metadata": {},
     "output_type": "execute_result"
    }
   ],
   "source": [
    "text = input(\"your text\")\n",
    "test_x = vectorizer.transform([text])\n",
    "clf_svm.predict(test_x)"
   ]
  }
 ],
 "metadata": {
  "kernelspec": {
   "display_name": "Python 3",
   "language": "python",
   "name": "python3"
  },
  "language_info": {
   "codemirror_mode": {
    "name": "ipython",
    "version": 3
   },
   "file_extension": ".py",
   "mimetype": "text/x-python",
   "name": "python",
   "nbconvert_exporter": "python",
   "pygments_lexer": "ipython3",
   "version": "3.10.0"
  },
  "orig_nbformat": 4,
  "vscode": {
   "interpreter": {
    "hash": "a42ccb73e7d9bfdf27e036f1d2b8b681e55fc0743cc5586bc2474d4a60f4b886"
   }
  }
 },
 "nbformat": 4,
 "nbformat_minor": 2
}
