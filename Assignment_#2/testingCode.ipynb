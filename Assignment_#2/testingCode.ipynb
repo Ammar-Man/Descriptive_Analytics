{
 "cells": [
  {
   "cell_type": "code",
   "execution_count": null,
   "metadata": {},
   "outputs": [],
   "source": [
    "import spacy\n",
    "from spacy.lang.sv.examples import sentences \n",
    "text = \"Sverige ingick därefter i den nordiska Kalmarunionen 1397–1523. \"\n",
    "nlp = spacy.load(\"sv_core_news_sm\")\n",
    "sentences[0] = text\n",
    "doc = nlp(text)\n",
    "print(doc.text)\n",
    "for token in doc:\n",
    "    print(token.text, token.pos_, token.dep_)"
   ]
  },
  {
   "cell_type": "code",
   "execution_count": null,
   "metadata": {},
   "outputs": [],
   "source": [
    "import nltk\n",
    "nltk.download('punkt')\n",
    "nltk.download('averaged_perceptron_tagger')\n",
    "from nltk.tokenize import word_tokenize\n",
    "from nltk import pos_tag\n",
    "from nltk import RegexpParser\n",
    "import matplotlib\n",
    "matplotlib.use('Agg')"
   ]
  },
  {
   "cell_type": "code",
   "execution_count": null,
   "metadata": {},
   "outputs": [],
   "source": [
    "text = \"Niraj saw the saw and decided to use it to saw the table.\"\n",
    "text = \"Sverige ingick därefter i den nordiska Kalmarunionen 1397–1523.\"\n",
    "tokens = word_tokenize(text)\n",
    "print(tokens)\n",
    "tag = pos_tag(tokens)\n",
    "print(tag)\n",
    "grammar = \"NP: {<DT>?<JJ>*<NN>}\"\n",
    "cp  =RegexpParser(grammar)\n",
    "result = cp.parse(tag)\n",
    "print(result)\n",
    "# result.draw()"
   ]
  }
 ],
 "metadata": {
  "kernelspec": {
   "display_name": "Python 3",
   "language": "python",
   "name": "python3"
  },
  "language_info": {
   "name": "python",
   "version": "3.10.0"
  },
  "orig_nbformat": 4,
  "vscode": {
   "interpreter": {
    "hash": "a42ccb73e7d9bfdf27e036f1d2b8b681e55fc0743cc5586bc2474d4a60f4b886"
   }
  }
 },
 "nbformat": 4,
 "nbformat_minor": 2
}
