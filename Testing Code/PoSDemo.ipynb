{
 "cells": [
  {
   "cell_type": "code",
   "execution_count": 1,
   "metadata": {},
   "outputs": [
    {
     "name": "stderr",
     "output_type": "stream",
     "text": [
      "[nltk_data] Downloading package punkt to\n",
      "[nltk_data]     C:\\Users\\Admin\\AppData\\Roaming\\nltk_data...\n",
      "[nltk_data]   Package punkt is already up-to-date!\n",
      "[nltk_data] Downloading package averaged_perceptron_tagger to\n",
      "[nltk_data]     C:\\Users\\Admin\\AppData\\Roaming\\nltk_data...\n",
      "[nltk_data]   Package averaged_perceptron_tagger is already up-to-\n",
      "[nltk_data]       date!\n"
     ]
    }
   ],
   "source": [
    "import nltk\n",
    "nltk.download('punkt')\n",
    "nltk.download('averaged_perceptron_tagger')\n",
    "from nltk.tokenize import word_tokenize\n",
    "from nltk import pos_tag\n",
    "from nltk import RegexpParser\n",
    "import matplotlib\n",
    "matplotlib.use('Agg')\n",
    "\n"
   ]
  },
  {
   "cell_type": "code",
   "execution_count": 2,
   "metadata": {},
   "outputs": [
    {
     "name": "stdout",
     "output_type": "stream",
     "text": [
      "['Niraj', 'saw', 'the', 'saw', 'and', 'decided', 'to', 'use', 'it', 'to', 'saw', 'the', 'table', '.']\n",
      "[('Niraj', 'NNP'), ('saw', 'VBD'), ('the', 'DT'), ('saw', 'NN'), ('and', 'CC'), ('decided', 'VBD'), ('to', 'TO'), ('use', 'VB'), ('it', 'PRP'), ('to', 'TO'), ('saw', 'VB'), ('the', 'DT'), ('table', 'NN'), ('.', '.')]\n",
      "(S\n",
      "  Niraj/NNP\n",
      "  saw/VBD\n",
      "  (NP the/DT saw/NN)\n",
      "  and/CC\n",
      "  decided/VBD\n",
      "  to/TO\n",
      "  use/VB\n",
      "  it/PRP\n",
      "  to/TO\n",
      "  saw/VB\n",
      "  (NP the/DT table/NN)\n",
      "  ./.)\n"
     ]
    }
   ],
   "source": [
    "\n",
    "text = \"Niraj saw the saw and decided to use it to saw the table.\"\n",
    "tokens = word_tokenize(text)\n",
    "print(tokens)\n",
    "tag = pos_tag(tokens)\n",
    "print(tag)\n",
    "grammar = \"NP: {<DT>?<JJ>*<NN>}\"\n",
    "cp  =RegexpParser(grammar)\n",
    "result = cp.parse(tag)\n",
    "print(result)\n",
    "result.draw()\n",
    "\n"
   ]
  },
  {
   "cell_type": "code",
   "execution_count": null,
   "metadata": {},
   "outputs": [],
   "source": [
    "\n",
    "text = \"Time flies. Horse flies bite dogs too.\"\n",
    "tokens = word_tokenize(text)\n",
    "print(tokens)\n",
    "tag = pos_tag(tokens)\n",
    "print(tag)\n",
    "grammar = \"NP: {<DT>?<JJ>*<NN>}\"\n",
    "cp  =RegexpParser(grammar)\n",
    "result = cp.parse(tag)\n",
    "print(result)\n",
    "result.draw()\n",
    "\n"
   ]
  },
  {
   "cell_type": "code",
   "execution_count": null,
   "metadata": {},
   "outputs": [],
   "source": [
    "text = \"Is John coming now?\"\n",
    "tokens = word_tokenize(text)\n",
    "print(tokens)\n",
    "tag = pos_tag(tokens)\n",
    "print(tag)\n",
    "grammar = \"NP: {<DT>?<JJ>*<NN>}\"\n",
    "cp  =RegexpParser(grammar)\n",
    "result = cp.parse(tag)\n",
    "print(result)\n",
    "result.draw()"
   ]
  }
 ],
 "metadata": {
  "kernelspec": {
   "display_name": "Python 3",
   "language": "python",
   "name": "python3"
  },
  "language_info": {
   "codemirror_mode": {
    "name": "ipython",
    "version": 3
   },
   "file_extension": ".py",
   "mimetype": "text/x-python",
   "name": "python",
   "nbconvert_exporter": "python",
   "pygments_lexer": "ipython3",
   "version": "3.10.0"
  },
  "orig_nbformat": 4,
  "vscode": {
   "interpreter": {
    "hash": "a42ccb73e7d9bfdf27e036f1d2b8b681e55fc0743cc5586bc2474d4a60f4b886"
   }
  }
 },
 "nbformat": 4,
 "nbformat_minor": 2
}
